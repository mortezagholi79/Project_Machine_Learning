{
 "cells": [
  {
   "cell_type": "markdown",
   "metadata": {},
   "source": [
    "# Data mining"
   ]
  },
  {
   "cell_type": "markdown",
   "metadata": {},
   "source": [
    " Author: mortezagholi79\n",
    " \n",
    "Email: *mortezagholi79@gmail.com*"
   ]
  },
  {
   "cell_type": "markdown",
   "metadata": {},
   "source": [
    "# Import module"
   ]
  },
  {
   "cell_type": "code",
   "execution_count": 1,
   "metadata": {},
   "outputs": [],
   "source": [
    "import numpy as np\n",
    "import pandas as pd\n",
    "from sklearn.model_selection import train_test_split\n",
    "from sklearn.linear_model import LogisticRegression\n",
    "from sklearn import preprocessing\n",
    "from sklearn.metrics import accuracy_score, classification_report, confusion_matrix\n",
    "from matplotlib import pyplot as plt\n",
    "import seaborn as sns\n",
    "from sklearn.preprocessing import StandardScaler"
   ]
  },
  {
   "cell_type": "markdown",
   "metadata": {},
   "source": [
    "# Load datasets"
   ]
  },
  {
   "cell_type": "code",
   "execution_count": 152,
   "metadata": {},
   "outputs": [
    {
     "data": {
      "text/plain": [
       "(1553, 13)"
      ]
     },
     "execution_count": 152,
     "metadata": {},
     "output_type": "execute_result"
    }
   ],
   "source": [
    "EURUSD_df = pd.read_csv(\"Datasets/Data_EURUSD.csv\")\n",
    "\n",
    "EURUSD_df.shape"
   ]
  },
  {
   "cell_type": "code",
   "execution_count": 153,
   "metadata": {},
   "outputs": [
    {
     "data": {
      "text/html": [
       "<div>\n",
       "<style scoped>\n",
       "    .dataframe tbody tr th:only-of-type {\n",
       "        vertical-align: middle;\n",
       "    }\n",
       "\n",
       "    .dataframe tbody tr th {\n",
       "        vertical-align: top;\n",
       "    }\n",
       "\n",
       "    .dataframe thead th {\n",
       "        text-align: right;\n",
       "    }\n",
       "</style>\n",
       "<table border=\"1\" class=\"dataframe\">\n",
       "  <thead>\n",
       "    <tr style=\"text-align: right;\">\n",
       "      <th></th>\n",
       "      <th>Date</th>\n",
       "      <th>lag1</th>\n",
       "      <th>lag2</th>\n",
       "      <th>lag3</th>\n",
       "      <th>lag4</th>\n",
       "      <th>lag5</th>\n",
       "      <th>RSI</th>\n",
       "      <th>StdDev</th>\n",
       "      <th>Momentum</th>\n",
       "      <th>macd</th>\n",
       "      <th>atr</th>\n",
       "      <th>sar</th>\n",
       "      <th>candelstatus</th>\n",
       "    </tr>\n",
       "  </thead>\n",
       "  <tbody>\n",
       "    <tr>\n",
       "      <th>0</th>\n",
       "      <td>2016.01.08</td>\n",
       "      <td>0.01491</td>\n",
       "      <td>0.00385</td>\n",
       "      <td>-0.00883</td>\n",
       "      <td>-0.00425</td>\n",
       "      <td>-0.00663</td>\n",
       "      <td>53.980341</td>\n",
       "      <td>0.007385</td>\n",
       "      <td>100.729961</td>\n",
       "      <td>0.001760</td>\n",
       "      <td>0.009561</td>\n",
       "      <td>1.097535</td>\n",
       "      <td>0</td>\n",
       "    </tr>\n",
       "    <tr>\n",
       "      <th>1</th>\n",
       "      <td>2016.01.11</td>\n",
       "      <td>-0.00032</td>\n",
       "      <td>0.01491</td>\n",
       "      <td>0.00385</td>\n",
       "      <td>-0.00883</td>\n",
       "      <td>-0.00425</td>\n",
       "      <td>53.304457</td>\n",
       "      <td>0.007288</td>\n",
       "      <td>100.053144</td>\n",
       "      <td>0.001487</td>\n",
       "      <td>0.009937</td>\n",
       "      <td>1.070710</td>\n",
       "      <td>0</td>\n",
       "    </tr>\n",
       "    <tr>\n",
       "      <th>2</th>\n",
       "      <td>2016.01.12</td>\n",
       "      <td>-0.00608</td>\n",
       "      <td>-0.00032</td>\n",
       "      <td>0.01491</td>\n",
       "      <td>0.00385</td>\n",
       "      <td>-0.00883</td>\n",
       "      <td>49.097754</td>\n",
       "      <td>0.006899</td>\n",
       "      <td>99.107363</td>\n",
       "      <td>0.001160</td>\n",
       "      <td>0.009863</td>\n",
       "      <td>1.071234</td>\n",
       "      <td>0</td>\n",
       "    </tr>\n",
       "    <tr>\n",
       "      <th>3</th>\n",
       "      <td>2016.01.13</td>\n",
       "      <td>-0.00018</td>\n",
       "      <td>-0.00608</td>\n",
       "      <td>-0.00032</td>\n",
       "      <td>0.01491</td>\n",
       "      <td>0.00385</td>\n",
       "      <td>48.866270</td>\n",
       "      <td>0.006218</td>\n",
       "      <td>99.502264</td>\n",
       "      <td>0.000835</td>\n",
       "      <td>0.009872</td>\n",
       "      <td>1.071748</td>\n",
       "      <td>1</td>\n",
       "    </tr>\n",
       "    <tr>\n",
       "      <th>4</th>\n",
       "      <td>2016.01.14</td>\n",
       "      <td>0.00215</td>\n",
       "      <td>-0.00018</td>\n",
       "      <td>-0.00608</td>\n",
       "      <td>-0.00032</td>\n",
       "      <td>0.01491</td>\n",
       "      <td>50.456963</td>\n",
       "      <td>0.006051</td>\n",
       "      <td>99.306101</td>\n",
       "      <td>0.000523</td>\n",
       "      <td>0.010026</td>\n",
       "      <td>1.072251</td>\n",
       "      <td>0</td>\n",
       "    </tr>\n",
       "  </tbody>\n",
       "</table>\n",
       "</div>"
      ],
      "text/plain": [
       "         Date     lag1     lag2     lag3     lag4     lag5        RSI  \\\n",
       "0  2016.01.08  0.01491  0.00385 -0.00883 -0.00425 -0.00663  53.980341   \n",
       "1  2016.01.11 -0.00032  0.01491  0.00385 -0.00883 -0.00425  53.304457   \n",
       "2  2016.01.12 -0.00608 -0.00032  0.01491  0.00385 -0.00883  49.097754   \n",
       "3  2016.01.13 -0.00018 -0.00608 -0.00032  0.01491  0.00385  48.866270   \n",
       "4  2016.01.14  0.00215 -0.00018 -0.00608 -0.00032  0.01491  50.456963   \n",
       "\n",
       "     StdDev    Momentum      macd       atr       sar  candelstatus  \n",
       "0  0.007385  100.729961  0.001760  0.009561  1.097535             0  \n",
       "1  0.007288  100.053144  0.001487  0.009937  1.070710             0  \n",
       "2  0.006899   99.107363  0.001160  0.009863  1.071234             0  \n",
       "3  0.006218   99.502264  0.000835  0.009872  1.071748             1  \n",
       "4  0.006051   99.306101  0.000523  0.010026  1.072251             0  "
      ]
     },
     "execution_count": 153,
     "metadata": {},
     "output_type": "execute_result"
    }
   ],
   "source": [
    "EURUSD_df.head()"
   ]
  },
  {
   "cell_type": "markdown",
   "metadata": {},
   "source": [
    "# Data columns"
   ]
  },
  {
   "cell_type": "code",
   "execution_count": 154,
   "metadata": {},
   "outputs": [
    {
     "data": {
      "text/plain": [
       "Index(['Date', 'lag1', 'lag2', 'lag3', 'lag4', 'lag5', 'RSI', 'StdDev',\n",
       "       'Momentum', 'macd', 'atr', 'sar', 'candelstatus'],\n",
       "      dtype='object')"
      ]
     },
     "execution_count": 154,
     "metadata": {},
     "output_type": "execute_result"
    }
   ],
   "source": [
    " EURUSD_df.columns"
   ]
  },
  {
   "cell_type": "code",
   "execution_count": 155,
   "metadata": {},
   "outputs": [
    {
     "data": {
      "text/plain": [
       "Index(['lag1', 'lag2', 'lag3', 'lag4', 'lag5', 'RSI', 'StdDev', 'Momentum',\n",
       "       'macd', 'atr', 'sar', 'candelstatus'],\n",
       "      dtype='object')"
      ]
     },
     "execution_count": 155,
     "metadata": {},
     "output_type": "execute_result"
    }
   ],
   "source": [
    "EURUSD_df = EURUSD_df.drop(columns=['Date'])\n",
    "EURUSD_df.columns"
   ]
  },
  {
   "cell_type": "code",
   "execution_count": 156,
   "metadata": {},
   "outputs": [
    {
     "data": {
      "text/html": [
       "<div>\n",
       "<style scoped>\n",
       "    .dataframe tbody tr th:only-of-type {\n",
       "        vertical-align: middle;\n",
       "    }\n",
       "\n",
       "    .dataframe tbody tr th {\n",
       "        vertical-align: top;\n",
       "    }\n",
       "\n",
       "    .dataframe thead th {\n",
       "        text-align: right;\n",
       "    }\n",
       "</style>\n",
       "<table border=\"1\" class=\"dataframe\">\n",
       "  <thead>\n",
       "    <tr style=\"text-align: right;\">\n",
       "      <th></th>\n",
       "      <th>lag1</th>\n",
       "      <th>lag2</th>\n",
       "      <th>lag3</th>\n",
       "      <th>lag4</th>\n",
       "      <th>lag5</th>\n",
       "      <th>RSI</th>\n",
       "      <th>StdDev</th>\n",
       "      <th>Momentum</th>\n",
       "      <th>macd</th>\n",
       "      <th>atr</th>\n",
       "      <th>sar</th>\n",
       "      <th>candelstatus</th>\n",
       "    </tr>\n",
       "  </thead>\n",
       "  <tbody>\n",
       "    <tr>\n",
       "      <th>0</th>\n",
       "      <td>0.01491</td>\n",
       "      <td>0.00385</td>\n",
       "      <td>-0.00883</td>\n",
       "      <td>-0.00425</td>\n",
       "      <td>-0.00663</td>\n",
       "      <td>53.980341</td>\n",
       "      <td>0.007385</td>\n",
       "      <td>100.729961</td>\n",
       "      <td>0.001760</td>\n",
       "      <td>0.009561</td>\n",
       "      <td>1.097535</td>\n",
       "      <td>0</td>\n",
       "    </tr>\n",
       "    <tr>\n",
       "      <th>1</th>\n",
       "      <td>-0.00032</td>\n",
       "      <td>0.01491</td>\n",
       "      <td>0.00385</td>\n",
       "      <td>-0.00883</td>\n",
       "      <td>-0.00425</td>\n",
       "      <td>53.304457</td>\n",
       "      <td>0.007288</td>\n",
       "      <td>100.053144</td>\n",
       "      <td>0.001487</td>\n",
       "      <td>0.009937</td>\n",
       "      <td>1.070710</td>\n",
       "      <td>0</td>\n",
       "    </tr>\n",
       "    <tr>\n",
       "      <th>2</th>\n",
       "      <td>-0.00608</td>\n",
       "      <td>-0.00032</td>\n",
       "      <td>0.01491</td>\n",
       "      <td>0.00385</td>\n",
       "      <td>-0.00883</td>\n",
       "      <td>49.097754</td>\n",
       "      <td>0.006899</td>\n",
       "      <td>99.107363</td>\n",
       "      <td>0.001160</td>\n",
       "      <td>0.009863</td>\n",
       "      <td>1.071234</td>\n",
       "      <td>0</td>\n",
       "    </tr>\n",
       "    <tr>\n",
       "      <th>3</th>\n",
       "      <td>-0.00018</td>\n",
       "      <td>-0.00608</td>\n",
       "      <td>-0.00032</td>\n",
       "      <td>0.01491</td>\n",
       "      <td>0.00385</td>\n",
       "      <td>48.866270</td>\n",
       "      <td>0.006218</td>\n",
       "      <td>99.502264</td>\n",
       "      <td>0.000835</td>\n",
       "      <td>0.009872</td>\n",
       "      <td>1.071748</td>\n",
       "      <td>1</td>\n",
       "    </tr>\n",
       "    <tr>\n",
       "      <th>4</th>\n",
       "      <td>0.00215</td>\n",
       "      <td>-0.00018</td>\n",
       "      <td>-0.00608</td>\n",
       "      <td>-0.00032</td>\n",
       "      <td>0.01491</td>\n",
       "      <td>50.456963</td>\n",
       "      <td>0.006051</td>\n",
       "      <td>99.306101</td>\n",
       "      <td>0.000523</td>\n",
       "      <td>0.010026</td>\n",
       "      <td>1.072251</td>\n",
       "      <td>0</td>\n",
       "    </tr>\n",
       "  </tbody>\n",
       "</table>\n",
       "</div>"
      ],
      "text/plain": [
       "      lag1     lag2     lag3     lag4     lag5        RSI    StdDev  \\\n",
       "0  0.01491  0.00385 -0.00883 -0.00425 -0.00663  53.980341  0.007385   \n",
       "1 -0.00032  0.01491  0.00385 -0.00883 -0.00425  53.304457  0.007288   \n",
       "2 -0.00608 -0.00032  0.01491  0.00385 -0.00883  49.097754  0.006899   \n",
       "3 -0.00018 -0.00608 -0.00032  0.01491  0.00385  48.866270  0.006218   \n",
       "4  0.00215 -0.00018 -0.00608 -0.00032  0.01491  50.456963  0.006051   \n",
       "\n",
       "     Momentum      macd       atr       sar  candelstatus  \n",
       "0  100.729961  0.001760  0.009561  1.097535             0  \n",
       "1  100.053144  0.001487  0.009937  1.070710             0  \n",
       "2   99.107363  0.001160  0.009863  1.071234             0  \n",
       "3   99.502264  0.000835  0.009872  1.071748             1  \n",
       "4   99.306101  0.000523  0.010026  1.072251             0  "
      ]
     },
     "execution_count": 156,
     "metadata": {},
     "output_type": "execute_result"
    }
   ],
   "source": [
    "EURUSD_df.head()"
   ]
  },
  {
   "cell_type": "markdown",
   "metadata": {},
   "source": [
    "# Check missing values "
   ]
  },
  {
   "cell_type": "code",
   "execution_count": 157,
   "metadata": {},
   "outputs": [
    {
     "data": {
      "text/plain": [
       "0"
      ]
     },
     "execution_count": 157,
     "metadata": {},
     "output_type": "execute_result"
    }
   ],
   "source": [
    "EURUSD_df.shape[0] - EURUSD_df.dropna().shape[0]"
   ]
  },
  {
   "cell_type": "markdown",
   "metadata": {},
   "source": [
    "# Data normalization"
   ]
  },
  {
   "cell_type": "code",
   "execution_count": 158,
   "metadata": {},
   "outputs": [],
   "source": [
    "\n",
    "list_df = []\n",
    "\n",
    "for df in [EURUSD_df]:\n",
    "    columns = df.columns\n",
    "\n",
    "    y = df[\"candelstatus\"].copy()\n",
    "    X = df.drop(columns=[\"candelstatus\"]).copy()\n",
    "    scaler = StandardScaler()\n",
    "    X = pd.DataFrame(scaler.fit_transform(X))\n",
    "    X[\"candelstatus\"] = np.array(y)\n",
    "    X.columns = columns\n",
    "    list_df.append(X)\n",
    "    \n",
    "EURUSD_df = list_df[0]"
   ]
  },
  {
   "cell_type": "markdown",
   "metadata": {},
   "source": [
    "# Corralation matrix"
   ]
  },
  {
   "cell_type": "code",
   "execution_count": 159,
   "metadata": {},
   "outputs": [
    {
     "data": {
      "text/html": [
       "<div>\n",
       "<style scoped>\n",
       "    .dataframe tbody tr th:only-of-type {\n",
       "        vertical-align: middle;\n",
       "    }\n",
       "\n",
       "    .dataframe tbody tr th {\n",
       "        vertical-align: top;\n",
       "    }\n",
       "\n",
       "    .dataframe thead th {\n",
       "        text-align: right;\n",
       "    }\n",
       "</style>\n",
       "<table border=\"1\" class=\"dataframe\">\n",
       "  <thead>\n",
       "    <tr style=\"text-align: right;\">\n",
       "      <th></th>\n",
       "      <th>lag1</th>\n",
       "      <th>lag2</th>\n",
       "      <th>lag3</th>\n",
       "      <th>lag4</th>\n",
       "      <th>lag5</th>\n",
       "      <th>RSI</th>\n",
       "      <th>StdDev</th>\n",
       "      <th>Momentum</th>\n",
       "      <th>macd</th>\n",
       "      <th>atr</th>\n",
       "      <th>sar</th>\n",
       "    </tr>\n",
       "  </thead>\n",
       "  <tbody>\n",
       "    <tr>\n",
       "      <th>lag1</th>\n",
       "      <td>1.000000</td>\n",
       "      <td>-0.007744</td>\n",
       "      <td>0.011555</td>\n",
       "      <td>-0.011621</td>\n",
       "      <td>-0.012631</td>\n",
       "      <td>0.350008</td>\n",
       "      <td>-0.005304</td>\n",
       "      <td>0.258972</td>\n",
       "      <td>-0.007602</td>\n",
       "      <td>-0.015390</td>\n",
       "      <td>-0.088667</td>\n",
       "    </tr>\n",
       "    <tr>\n",
       "      <th>lag2</th>\n",
       "      <td>-0.007744</td>\n",
       "      <td>1.000000</td>\n",
       "      <td>-0.008421</td>\n",
       "      <td>0.011000</td>\n",
       "      <td>-0.012228</td>\n",
       "      <td>0.317634</td>\n",
       "      <td>0.003791</td>\n",
       "      <td>0.256290</td>\n",
       "      <td>0.002976</td>\n",
       "      <td>-0.012359</td>\n",
       "      <td>-0.089120</td>\n",
       "    </tr>\n",
       "    <tr>\n",
       "      <th>lag3</th>\n",
       "      <td>0.011555</td>\n",
       "      <td>-0.008421</td>\n",
       "      <td>1.000000</td>\n",
       "      <td>-0.007187</td>\n",
       "      <td>0.012476</td>\n",
       "      <td>0.298527</td>\n",
       "      <td>0.013321</td>\n",
       "      <td>0.253319</td>\n",
       "      <td>0.019192</td>\n",
       "      <td>-0.011459</td>\n",
       "      <td>-0.074985</td>\n",
       "    </tr>\n",
       "    <tr>\n",
       "      <th>lag4</th>\n",
       "      <td>-0.011621</td>\n",
       "      <td>0.011000</td>\n",
       "      <td>-0.007187</td>\n",
       "      <td>1.000000</td>\n",
       "      <td>-0.006348</td>\n",
       "      <td>0.273546</td>\n",
       "      <td>0.014181</td>\n",
       "      <td>0.261249</td>\n",
       "      <td>0.039874</td>\n",
       "      <td>-0.003227</td>\n",
       "      <td>-0.061980</td>\n",
       "    </tr>\n",
       "    <tr>\n",
       "      <th>lag5</th>\n",
       "      <td>-0.012631</td>\n",
       "      <td>-0.012228</td>\n",
       "      <td>0.012476</td>\n",
       "      <td>-0.006348</td>\n",
       "      <td>1.000000</td>\n",
       "      <td>0.250988</td>\n",
       "      <td>0.016851</td>\n",
       "      <td>0.269084</td>\n",
       "      <td>0.064127</td>\n",
       "      <td>0.001833</td>\n",
       "      <td>-0.032040</td>\n",
       "    </tr>\n",
       "    <tr>\n",
       "      <th>RSI</th>\n",
       "      <td>0.350008</td>\n",
       "      <td>0.317634</td>\n",
       "      <td>0.298527</td>\n",
       "      <td>0.273546</td>\n",
       "      <td>0.250988</td>\n",
       "      <td>1.000000</td>\n",
       "      <td>0.089176</td>\n",
       "      <td>0.845943</td>\n",
       "      <td>0.638840</td>\n",
       "      <td>0.130709</td>\n",
       "      <td>0.015656</td>\n",
       "    </tr>\n",
       "    <tr>\n",
       "      <th>StdDev</th>\n",
       "      <td>-0.005304</td>\n",
       "      <td>0.003791</td>\n",
       "      <td>0.013321</td>\n",
       "      <td>0.014181</td>\n",
       "      <td>0.016851</td>\n",
       "      <td>0.089176</td>\n",
       "      <td>1.000000</td>\n",
       "      <td>0.058699</td>\n",
       "      <td>0.086920</td>\n",
       "      <td>0.608300</td>\n",
       "      <td>-0.053347</td>\n",
       "    </tr>\n",
       "    <tr>\n",
       "      <th>Momentum</th>\n",
       "      <td>0.258972</td>\n",
       "      <td>0.256290</td>\n",
       "      <td>0.253319</td>\n",
       "      <td>0.261249</td>\n",
       "      <td>0.269084</td>\n",
       "      <td>0.845943</td>\n",
       "      <td>0.058699</td>\n",
       "      <td>1.000000</td>\n",
       "      <td>0.420508</td>\n",
       "      <td>0.037559</td>\n",
       "      <td>-0.047431</td>\n",
       "    </tr>\n",
       "    <tr>\n",
       "      <th>macd</th>\n",
       "      <td>-0.007602</td>\n",
       "      <td>0.002976</td>\n",
       "      <td>0.019192</td>\n",
       "      <td>0.039874</td>\n",
       "      <td>0.064127</td>\n",
       "      <td>0.638840</td>\n",
       "      <td>0.086920</td>\n",
       "      <td>0.420508</td>\n",
       "      <td>1.000000</td>\n",
       "      <td>0.172637</td>\n",
       "      <td>0.248710</td>\n",
       "    </tr>\n",
       "    <tr>\n",
       "      <th>atr</th>\n",
       "      <td>-0.015390</td>\n",
       "      <td>-0.012359</td>\n",
       "      <td>-0.011459</td>\n",
       "      <td>-0.003227</td>\n",
       "      <td>0.001833</td>\n",
       "      <td>0.130709</td>\n",
       "      <td>0.608300</td>\n",
       "      <td>0.037559</td>\n",
       "      <td>0.172637</td>\n",
       "      <td>1.000000</td>\n",
       "      <td>-0.039402</td>\n",
       "    </tr>\n",
       "    <tr>\n",
       "      <th>sar</th>\n",
       "      <td>-0.088667</td>\n",
       "      <td>-0.089120</td>\n",
       "      <td>-0.074985</td>\n",
       "      <td>-0.061980</td>\n",
       "      <td>-0.032040</td>\n",
       "      <td>0.015656</td>\n",
       "      <td>-0.053347</td>\n",
       "      <td>-0.047431</td>\n",
       "      <td>0.248710</td>\n",
       "      <td>-0.039402</td>\n",
       "      <td>1.000000</td>\n",
       "    </tr>\n",
       "  </tbody>\n",
       "</table>\n",
       "</div>"
      ],
      "text/plain": [
       "              lag1      lag2      lag3      lag4      lag5       RSI  \\\n",
       "lag1      1.000000 -0.007744  0.011555 -0.011621 -0.012631  0.350008   \n",
       "lag2     -0.007744  1.000000 -0.008421  0.011000 -0.012228  0.317634   \n",
       "lag3      0.011555 -0.008421  1.000000 -0.007187  0.012476  0.298527   \n",
       "lag4     -0.011621  0.011000 -0.007187  1.000000 -0.006348  0.273546   \n",
       "lag5     -0.012631 -0.012228  0.012476 -0.006348  1.000000  0.250988   \n",
       "RSI       0.350008  0.317634  0.298527  0.273546  0.250988  1.000000   \n",
       "StdDev   -0.005304  0.003791  0.013321  0.014181  0.016851  0.089176   \n",
       "Momentum  0.258972  0.256290  0.253319  0.261249  0.269084  0.845943   \n",
       "macd     -0.007602  0.002976  0.019192  0.039874  0.064127  0.638840   \n",
       "atr      -0.015390 -0.012359 -0.011459 -0.003227  0.001833  0.130709   \n",
       "sar      -0.088667 -0.089120 -0.074985 -0.061980 -0.032040  0.015656   \n",
       "\n",
       "            StdDev  Momentum      macd       atr       sar  \n",
       "lag1     -0.005304  0.258972 -0.007602 -0.015390 -0.088667  \n",
       "lag2      0.003791  0.256290  0.002976 -0.012359 -0.089120  \n",
       "lag3      0.013321  0.253319  0.019192 -0.011459 -0.074985  \n",
       "lag4      0.014181  0.261249  0.039874 -0.003227 -0.061980  \n",
       "lag5      0.016851  0.269084  0.064127  0.001833 -0.032040  \n",
       "RSI       0.089176  0.845943  0.638840  0.130709  0.015656  \n",
       "StdDev    1.000000  0.058699  0.086920  0.608300 -0.053347  \n",
       "Momentum  0.058699  1.000000  0.420508  0.037559 -0.047431  \n",
       "macd      0.086920  0.420508  1.000000  0.172637  0.248710  \n",
       "atr       0.608300  0.037559  0.172637  1.000000 -0.039402  \n",
       "sar      -0.053347 -0.047431  0.248710 -0.039402  1.000000  "
      ]
     },
     "execution_count": 159,
     "metadata": {},
     "output_type": "execute_result"
    }
   ],
   "source": [
    "corr_EURUSD = EURUSD_df.drop(columns=[\"candelstatus\"]).corr()\n",
    "corr_EURUSD"
   ]
  },
  {
   "cell_type": "markdown",
   "metadata": {},
   "source": [
    "# Heatmap"
   ]
  },
  {
   "cell_type": "code",
   "execution_count": 160,
   "metadata": {},
   "outputs": [
    {
     "data": {
      "image/png": "[encoded data removed]",
      "text/plain": [
       "<Figure size 1080x1800 with 2 Axes>"
      ]
     },
     "metadata": {
      "needs_background": "light"
     },
     "output_type": "display_data"
    }
   ],
   "source": [
    "fig = plt.figure(figsize=(15, 25))\n",
    "ax = fig.add_subplot(111)\n",
    "mask=np.zeros_like(corr_EURUSD)\n",
    "mask[np.triu_indices_from(mask)] = True\n",
    "sns.heatmap(corr_EURUSD,\n",
    "            xticklabels=corr_EURUSD.columns,\n",
    "            yticklabels=corr_EURUSD.columns,\n",
    "           ax=ax, mask=mask, square=True,\n",
    "            cbar_kws={\"shrink\": 0.3},\n",
    "           cmap=\"binary\")\n",
    "plt.show()"
   ]
  },
  {
   "cell_type": "markdown",
   "metadata": {},
   "source": [
    "# Class Distribution"
   ]
  },
  {
   "cell_type": "code",
   "execution_count": 161,
   "metadata": {},
   "outputs": [
    {
     "data": {
      "text/plain": [
       "1    779\n",
       "0    774\n",
       "Name: candelstatus, dtype: int64"
      ]
     },
     "execution_count": 161,
     "metadata": {},
     "output_type": "execute_result"
    }
   ],
   "source": [
    "EURUSD_df[\"candelstatus\"].value_counts()"
   ]
  },
  {
   "cell_type": "markdown",
   "metadata": {},
   "source": [
    "# Class distribution plot"
   ]
  },
  {
   "cell_type": "code",
   "execution_count": 162,
   "metadata": {},
   "outputs": [
    {
     "name": "stderr",
     "output_type": "stream",
     "text": [
      "C:\\Users\\morte\\Anaconda3\\lib\\site-packages\\ipykernel_launcher.py:2: SettingWithCopyWarning: \n",
      "A value is trying to be set on a copy of a slice from a DataFrame.\n",
      "Try using .loc[row_indexer,col_indexer] = value instead\n",
      "\n",
      "See the caveats in the documentation: http://pandas.pydata.org/pandas-docs/stable/indexing.html#indexing-view-versus-copy\n",
      "  \n"
     ]
    }
   ],
   "source": [
    "EURUSD_class = EURUSD_df[[\"candelstatus\"]]\n",
    "EURUSD_class[\"dataset_name\"] = [\"EURUSD\" for i in range(EURUSD_df.shape[0])]"
   ]
  },
  {
   "cell_type": "code",
   "execution_count": 163,
   "metadata": {},
   "outputs": [
    {
     "data": {
      "image/png": "[encoded data removed]",
      "text/plain": [
       "<Figure size 360x360 with 1 Axes>"
      ]
     },
     "metadata": {
      "needs_background": "light"
     },
     "output_type": "display_data"
    }
   ],
   "source": [
    "merge_df = pd.concat([EURUSD_class], ignore_index=True)\n",
    "g = sns.catplot(x='dataset_name', hue='candelstatus', \n",
    "            kind='count', data=merge_df, ci=False, aspect=1,\n",
    "               legend=False)\n",
    "plt.xlabel(\"$Dataset$ $Name$\")\n",
    "plt.ylabel(\"$Count$\")\n",
    "plt.legend(labels=[\"Down (0)\", \"Up (1)\"],\n",
    "          bbox_to_anchor=[0.7,1], ncol=5, frameon=False)\n",
    "\n",
    "plt.show()"
   ]
  },
  {
   "cell_type": "markdown",
   "metadata": {},
   "source": [
    "# Histogram plot of features"
   ]
  },
  {
   "cell_type": "code",
   "execution_count": 164,
   "metadata": {},
   "outputs": [
    {
     "data": {
      "image/png": "[encoded data removed]",
      "text/plain": [
       "<Figure size 2520x2520 with 12 Axes>"
      ]
     },
     "metadata": {
      "needs_background": "light"
     },
     "output_type": "display_data"
    }
   ],
   "source": [
    "ax = EURUSD_df.drop(columns=[\"candelstatus\"]).hist(bins=100, alpha=0.5, label=\"Full\", grid=False, figsize=(35, 35))\n",
    "EURUSD_df[EURUSD_df[\"candelstatus\"] == 0].hist(bins=100, ax=ax.ravel()[:12],grid=False, color=\"Red\", alpha=0.5, label=\"0\")\n",
    "EURUSD_df[EURUSD_df[\"candelstatus\"] == 1].hist(bins=100, ax=ax.ravel()[:12], color=\"gold\",grid=False, alpha=0.5, label=\"1\")\n",
    "plt.show()"
   ]
  },
  {
   "cell_type": "markdown",
   "metadata": {},
   "source": [
    "# Test and Trian "
   ]
  },
  {
   "cell_type": "code",
   "execution_count": 165,
   "metadata": {},
   "outputs": [],
   "source": [
    "X_train, X_test, y_train, y_test = train_test_split(EURUSD_df.drop(columns=[\"candelstatus\"]) ,EURUSD_df.candelstatus\n",
    "                                                    ,stratify=None,test_size=0.2, shuffle=False)"
   ]
  },
  {
   "cell_type": "code",
   "execution_count": 166,
   "metadata": {},
   "outputs": [
    {
     "data": {
      "text/plain": [
       "(1242, 11)"
      ]
     },
     "execution_count": 166,
     "metadata": {},
     "output_type": "execute_result"
    }
   ],
   "source": [
    "X_train.shape"
   ]
  },
  {
   "cell_type": "code",
   "execution_count": 167,
   "metadata": {},
   "outputs": [
    {
     "data": {
      "text/plain": [
       "(311, 11)"
      ]
     },
     "execution_count": 167,
     "metadata": {},
     "output_type": "execute_result"
    }
   ],
   "source": [
    "X_test.shape\n"
   ]
  },
  {
   "cell_type": "markdown",
   "metadata": {},
   "source": [
    "# k-nearest neighbors algorithm"
   ]
  },
  {
   "cell_type": "code",
   "execution_count": 18,
   "metadata": {},
   "outputs": [],
   "source": [
    "from sklearn.neighbors import KNeighborsClassifier"
   ]
  },
  {
   "cell_type": "code",
   "execution_count": 19,
   "metadata": {},
   "outputs": [],
   "source": [
    "error = []\n",
    "\n",
    "# Calculating error for K values between 1 and 50\n",
    "for i in range(1, 50):\n",
    "    knn = KNeighborsClassifier(n_neighbors=i)\n",
    "    knn.fit(X_train, y_train)\n",
    "    pred_i = knn.predict(X_test)\n",
    "    error.append(np.mean(pred_i != y_test))"
   ]
  },
  {
   "cell_type": "code",
   "execution_count": 20,
   "metadata": {},
   "outputs": [
    {
     "data": {
      "text/plain": [
       "Text(0, 0.5, 'Mean Error')"
      ]
     },
     "execution_count": 20,
     "metadata": {},
     "output_type": "execute_result"
    },
    {
     "data": {
      "image/png": "[encoded data removed]",
      "text/plain": [
       "<Figure size 864x432 with 1 Axes>"
      ]
     },
     "metadata": {
      "needs_background": "light"
     },
     "output_type": "display_data"
    }
   ],
   "source": [
    "plt.figure(figsize=(12, 6))\n",
    "plt.plot(range(1, 50), error, color='red', linestyle='dashed', marker='o',\n",
    "         markerfacecolor='blue', markersize=10)\n",
    "plt.title('Error Rate K Value')\n",
    "plt.xlabel('K Value')\n",
    "plt.ylabel('Mean Error')"
   ]
  },
  {
   "cell_type": "markdown",
   "metadata": {},
   "source": [
    "# Predict by KNN"
   ]
  },
  {
   "cell_type": "code",
   "execution_count": 21,
   "metadata": {},
   "outputs": [],
   "source": [
    "classifierKNN = KNeighborsClassifier(n_neighbors=29)\n",
    "classifierKNN.fit(X_train, y_train)\n",
    "y_predKNN = classifierKNN.predict(X_test)"
   ]
  },
  {
   "cell_type": "code",
   "execution_count": 22,
   "metadata": {},
   "outputs": [],
   "source": [
    "from sklearn.metrics import classification_report, confusion_matrix\n"
   ]
  },
  {
   "cell_type": "code",
   "execution_count": 179,
   "metadata": {
    "scrolled": true
   },
   "outputs": [
    {
     "data": {
      "image/png": "[encoded data removed]",
      "text/plain": [
       "<Figure size 864x432 with 1 Axes>"
      ]
     },
     "metadata": {
      "needs_background": "light"
     },
     "output_type": "display_data"
    }
   ],
   "source": [
    "cm=confusion_matrix(y_test,y_predKNN)\n",
    "plt.figure(figsize=(12,6))\n",
    "plt.title(\"Confusion Matrix\")\n",
    "sns.heatmap(cm, annot=True,fmt='d', cmap='Blues',linewidths=5,linecolor='black', cbar=False )\n",
    "plt.ylabel(\"Actual Values\")\n",
    "plt.xlabel(\"Predicted Values\")\n",
    "plt.savefig('confusion_matrix.png')\n"
   ]
  },
  {
   "cell_type": "code",
   "execution_count": 24,
   "metadata": {},
   "outputs": [
    {
     "name": "stdout",
     "output_type": "stream",
     "text": [
      "The Accuracy for Test Set is 55.62700964630225\n"
     ]
    }
   ],
   "source": [
    "test_acc = accuracy_score(y_test, y_predKNN)\n",
    "print(\"The Accuracy for Test Set is {}\".format(test_acc*100))"
   ]
  },
  {
   "cell_type": "code",
   "execution_count": 180,
   "metadata": {},
   "outputs": [
    {
     "name": "stdout",
     "output_type": "stream",
     "text": [
      "              precision    recall  f1-score   support\n",
      "\n",
      "           0       0.56      0.59      0.57       157\n",
      "           1       0.56      0.52      0.54       154\n",
      "\n",
      "   micro avg       0.56      0.56      0.56       311\n",
      "   macro avg       0.56      0.56      0.56       311\n",
      "weighted avg       0.56      0.56      0.56       311\n",
      "\n"
     ]
    }
   ],
   "source": [
    "print(classification_report(y_test, y_predKNN))"
   ]
  },
  {
   "cell_type": "markdown",
   "metadata": {},
   "source": [
    "# Decision Tree for Classification"
   ]
  },
  {
   "cell_type": "code",
   "execution_count": 25,
   "metadata": {},
   "outputs": [],
   "source": [
    "from sklearn.tree import DecisionTreeClassifier\n",
    "classifierDT = DecisionTreeClassifier()\n",
    "classifierDT.fit(X_train, y_train)\n",
    "y_predDT = classifierDT.predict(X_test)"
   ]
  },
  {
   "cell_type": "code",
   "execution_count": 175,
   "metadata": {},
   "outputs": [
    {
     "data": {
      "image/png": "[encoded data removed]",
      "text/plain": [
       "<Figure size 864x432 with 1 Axes>"
      ]
     },
     "metadata": {
      "needs_background": "light"
     },
     "output_type": "display_data"
    }
   ],
   "source": [
    "cm=confusion_matrix(y_test,y_predDT)\n",
    "plt.figure(figsize=(12,6))\n",
    "plt.title(\"Confusion Matrix\")\n",
    "sns.heatmap(cm, annot=True,fmt='d', cmap='Purples',linewidths=5,linecolor='black', cbar=False)\n",
    "plt.ylabel(\"Actual Values\")\n",
    "plt.xlabel(\"Predicted Values\")\n",
    "plt.savefig('confusion_matrix.png')"
   ]
  },
  {
   "cell_type": "code",
   "execution_count": 27,
   "metadata": {},
   "outputs": [
    {
     "name": "stdout",
     "output_type": "stream",
     "text": [
      "              precision    recall  f1-score   support\n",
      "\n",
      "           0       0.49      0.56      0.53       157\n",
      "           1       0.48      0.42      0.45       154\n",
      "\n",
      "   micro avg       0.49      0.49      0.49       311\n",
      "   macro avg       0.49      0.49      0.49       311\n",
      "weighted avg       0.49      0.49      0.49       311\n",
      "\n"
     ]
    }
   ],
   "source": [
    "print(classification_report(y_test, y_predDT))"
   ]
  },
  {
   "cell_type": "code",
   "execution_count": 28,
   "metadata": {},
   "outputs": [
    {
     "name": "stdout",
     "output_type": "stream",
     "text": [
      "The Accuracy for Test Set is 48.87459807073955\n"
     ]
    }
   ],
   "source": [
    "test_acc = accuracy_score(y_test, y_predDT)\n",
    "print(\"The Accuracy for Test Set is {}\".format(test_acc*100))"
   ]
  },
  {
   "cell_type": "markdown",
   "metadata": {},
   "source": [
    "# Random Forest Classifier"
   ]
  },
  {
   "cell_type": "code",
   "execution_count": 29,
   "metadata": {},
   "outputs": [],
   "source": [
    "from  sklearn.ensemble import RandomForestClassifier\n",
    "from sklearn.model_selection import GridSearchCV\n",
    "from sklearn.model_selection import cross_val_score"
   ]
  },
  {
   "cell_type": "code",
   "execution_count": 30,
   "metadata": {},
   "outputs": [],
   "source": [
    "classifierRF = RandomForestClassifier( random_state=0)"
   ]
  },
  {
   "cell_type": "code",
   "execution_count": 31,
   "metadata": {},
   "outputs": [],
   "source": [
    " grid_param = {\n",
    "    'n_estimators':[20,50,100,150,200,250],\n",
    "    'criterion': ['gini', 'entropy'],\n",
    "    'bootstrap': [True, False],\n",
    "    'max_depth':[3,5,6,10]\n",
    "}"
   ]
  },
  {
   "cell_type": "code",
   "execution_count": 32,
   "metadata": {},
   "outputs": [],
   "source": [
    "gd_sr = GridSearchCV(estimator=classifierRF,\n",
    "                     param_grid=grid_param,\n",
    "                     scoring='accuracy',\n",
    "                     cv=5,\n",
    "                     n_jobs=-1)"
   ]
  },
  {
   "cell_type": "code",
   "execution_count": 33,
   "metadata": {},
   "outputs": [
    {
     "data": {
      "text/plain": [
       "GridSearchCV(cv=5, error_score='raise-deprecating',\n",
       "       estimator=RandomForestClassifier(bootstrap=True, class_weight=None, criterion='gini',\n",
       "            max_depth=None, max_features='auto', max_leaf_nodes=None,\n",
       "            min_impurity_decrease=0.0, min_impurity_split=None,\n",
       "            min_samples_leaf=1, min_samples_split=2,\n",
       "            min_weight_fraction_leaf=0.0, n_estimators='warn', n_jobs=None,\n",
       "            oob_score=False, random_state=0, verbose=0, warm_start=False),\n",
       "       fit_params=None, iid='warn', n_jobs=-1,\n",
       "       param_grid={'n_estimators': [20, 50, 100, 150, 200, 250], 'criterion': ['gini', 'entropy'], 'bootstrap': [True, False], 'max_depth': [3, 5, 6, 10]},\n",
       "       pre_dispatch='2*n_jobs', refit=True, return_train_score='warn',\n",
       "       scoring='accuracy', verbose=0)"
      ]
     },
     "execution_count": 33,
     "metadata": {},
     "output_type": "execute_result"
    }
   ],
   "source": [
    "gd_sr.fit(X_train, y_train)"
   ]
  },
  {
   "cell_type": "code",
   "execution_count": 34,
   "metadata": {},
   "outputs": [
    {
     "name": "stdout",
     "output_type": "stream",
     "text": [
      "{'bootstrap': True, 'criterion': 'entropy', 'max_depth': 5, 'n_estimators': 150}\n"
     ]
    }
   ],
   "source": [
    "best_parameters = gd_sr.best_params_\n",
    "print(best_parameters)"
   ]
  },
  {
   "cell_type": "markdown",
   "metadata": {},
   "source": [
    "# Predict : RandomForest "
   ]
  },
  {
   "cell_type": "code",
   "execution_count": 36,
   "metadata": {},
   "outputs": [],
   "source": [
    "y_predRF = gd_sr.predict(X_test)"
   ]
  },
  {
   "cell_type": "code",
   "execution_count": 172,
   "metadata": {},
   "outputs": [
    {
     "data": {
      "image/png": "[encoded data removed]",
      "text/plain": [
       "<Figure size 864x432 with 1 Axes>"
      ]
     },
     "metadata": {
      "needs_background": "light"
     },
     "output_type": "display_data"
    }
   ],
   "source": [
    "cm=confusion_matrix(y_test,y_predRF)\n",
    "plt.figure(figsize=(12,6))\n",
    "plt.title(\"Confusion Matrix\")\n",
    "sns.heatmap(cm, annot=True,fmt='d', cmap='Greens',linewidths=5,linecolor='black', cbar=False)\n",
    "plt.ylabel(\"Actual Values\")\n",
    "plt.xlabel(\"Predicted Values\")\n",
    "plt.savefig('confusion_matrix.png')"
   ]
  },
  {
   "cell_type": "code",
   "execution_count": 173,
   "metadata": {},
   "outputs": [
    {
     "name": "stdout",
     "output_type": "stream",
     "text": [
      "The Accuracy for Test Set is 51.76848874598071\n"
     ]
    }
   ],
   "source": [
    "test_acc = accuracy_score(y_test, y_predRF)\n",
    "print(\"The Accuracy for Test Set is {}\".format(test_acc*100))"
   ]
  },
  {
   "cell_type": "code",
   "execution_count": 174,
   "metadata": {},
   "outputs": [
    {
     "name": "stdout",
     "output_type": "stream",
     "text": [
      "              precision    recall  f1-score   support\n",
      "\n",
      "           0       0.52      0.56      0.54       157\n",
      "           1       0.51      0.47      0.49       154\n",
      "\n",
      "   micro avg       0.52      0.52      0.52       311\n",
      "   macro avg       0.52      0.52      0.52       311\n",
      "weighted avg       0.52      0.52      0.52       311\n",
      "\n"
     ]
    }
   ],
   "source": [
    "print(classification_report(y_test, y_predRF)) "
   ]
  },
  {
   "cell_type": "markdown",
   "metadata": {},
   "source": [
    "# Support Vector Machines (SVM)  classifiers"
   ]
  },
  {
   "cell_type": "code",
   "execution_count": 52,
   "metadata": {},
   "outputs": [],
   "source": [
    "from sklearn.svm import SVC\n",
    "from sklearn import svm"
   ]
  },
  {
   "cell_type": "markdown",
   "metadata": {},
   "source": [
    "# Choose the best parameter for SVM and Training the Algorithm "
   ]
  },
  {
   "cell_type": "code",
   "execution_count": 168,
   "metadata": {},
   "outputs": [
    {
     "name": "stdout",
     "output_type": "stream",
     "text": [
      "{'C': 1.0, 'gamma': 'scale', 'kernel': 'rbf'}\n"
     ]
    }
   ],
   "source": [
    "classifierSVM = svm.SVC() \n",
    "# defining parameter range \n",
    "param_grid_svm = {'C': [0.001, 0.01, 0.05, 0.1, 0.5, 1.0, 10.0, 100],  \n",
    "              'gamma':['scale', 'auto'],\n",
    "              'kernel': ['linear','rbf','sigmoid']}  \n",
    "   \n",
    "gridSVM = GridSearchCV(estimator=classifierSVM,\n",
    "                     param_grid = param_grid_svm,\n",
    "                     scoring='accuracy',\n",
    "                     cv=10,\n",
    "                     refit=True,\n",
    "                     n_jobs=-1)\n",
    "   \n",
    "# fitting the model for grid search \n",
    "gridSVM.fit(X_train, y_train) \n",
    " \n",
    "# print best parameter after tuning \n",
    "print(gridSVM.best_params_) \n",
    "grid_predictions = gridSVM.predict(X_test) \n",
    "   \n"
   ]
  },
  {
   "cell_type": "markdown",
   "metadata": {},
   "source": [
    "# print classification report : Support Vector"
   ]
  },
  {
   "cell_type": "code",
   "execution_count": 169,
   "metadata": {},
   "outputs": [
    {
     "data": {
      "image/png": "[encoded data removed]",
      "text/plain": [
       "<Figure size 864x432 with 1 Axes>"
      ]
     },
     "metadata": {
      "needs_background": "light"
     },
     "output_type": "display_data"
    }
   ],
   "source": [
    "cm=confusion_matrix(y_test,grid_predictions)\n",
    "plt.figure(figsize=(12,6))\n",
    "plt.title(\"Confusion Matrix : Support Vector\")\n",
    "sns.heatmap(cm, annot=True,fmt='d', cmap='Reds',linewidths=5,linecolor='black',cbar=False)\n",
    "plt.ylabel(\"Actual Values\")\n",
    "plt.xlabel(\"Predicted Values\")\n",
    "plt.savefig('confusion_matrix.png')"
   ]
  },
  {
   "cell_type": "code",
   "execution_count": 170,
   "metadata": {},
   "outputs": [
    {
     "name": "stdout",
     "output_type": "stream",
     "text": [
      "The Accuracy for Test Set is 52.73311897106109\n"
     ]
    }
   ],
   "source": [
    "test_acc = accuracy_score(y_test, grid_predictions)\n",
    "print(\"The Accuracy for Test Set is {}\".format(test_acc*100))"
   ]
  },
  {
   "cell_type": "code",
   "execution_count": 216,
   "metadata": {},
   "outputs": [
    {
     "name": "stdout",
     "output_type": "stream",
     "text": [
      "              precision    recall  f1-score   support\n",
      "\n",
      "           0       0.53      0.64      0.58       157\n",
      "           1       0.53      0.42      0.47       154\n",
      "\n",
      "   micro avg       0.53      0.53      0.53       311\n",
      "   macro avg       0.53      0.53      0.52       311\n",
      "weighted avg       0.53      0.53      0.52       311\n",
      "\n"
     ]
    }
   ],
   "source": [
    "\n",
    "print(classification_report(y_test, grid_predictions)) "
   ]
  },
  {
   "cell_type": "markdown",
   "metadata": {},
   "source": [
    "# Results table"
   ]
  },
  {
   "cell_type": "code",
   "execution_count": 308,
   "metadata": {},
   "outputs": [
    {
     "data": {
      "text/html": [
       "<div>\n",
       "<style scoped>\n",
       "    .dataframe tbody tr th:only-of-type {\n",
       "        vertical-align: middle;\n",
       "    }\n",
       "\n",
       "    .dataframe tbody tr th {\n",
       "        vertical-align: top;\n",
       "    }\n",
       "\n",
       "    .dataframe thead th {\n",
       "        text-align: right;\n",
       "    }\n",
       "</style>\n",
       "<table border=\"1\" class=\"dataframe\">\n",
       "  <thead>\n",
       "    <tr style=\"text-align: right;\">\n",
       "      <th></th>\n",
       "      <th>Accuracy for Test Set</th>\n",
       "      <th>Accuracy for  Predicting 0</th>\n",
       "      <th>Accuracy for  Predicting 1</th>\n",
       "    </tr>\n",
       "  </thead>\n",
       "  <tbody>\n",
       "    <tr>\n",
       "      <th>KNN</th>\n",
       "      <td>55.63</td>\n",
       "      <td>0.59</td>\n",
       "      <td>0.52</td>\n",
       "    </tr>\n",
       "    <tr>\n",
       "      <th>DecisionTree</th>\n",
       "      <td>48.87</td>\n",
       "      <td>0.56</td>\n",
       "      <td>0.42</td>\n",
       "    </tr>\n",
       "    <tr>\n",
       "      <th>RandomForest</th>\n",
       "      <td>51.77</td>\n",
       "      <td>0.56</td>\n",
       "      <td>0.47</td>\n",
       "    </tr>\n",
       "    <tr>\n",
       "      <th>SVM</th>\n",
       "      <td>52.73</td>\n",
       "      <td>0.64</td>\n",
       "      <td>0.42</td>\n",
       "    </tr>\n",
       "  </tbody>\n",
       "</table>\n",
       "</div>"
      ],
      "text/plain": [
       "             Accuracy for Test Set  Accuracy for  Predicting 0  \\\n",
       "KNN                           55.63                       0.59   \n",
       "DecisionTree                  48.87                       0.56   \n",
       "RandomForest                  51.77                       0.56   \n",
       "SVM                           52.73                       0.64   \n",
       "\n",
       "             Accuracy for  Predicting 1  \n",
       "KNN                               0.52   \n",
       "DecisionTree                      0.42   \n",
       "RandomForest                      0.47   \n",
       "SVM                               0.42   "
      ]
     },
     "execution_count": 308,
     "metadata": {},
     "output_type": "execute_result"
    }
   ],
   "source": [
    "index= ['KNN', 'DecisionTree', 'RandomForest', 'SVM']\n",
    "cols = ['Accuracy for Test Set ', 'Accuracy for  Predicting 0', 'Accuracy for  Predicting 1']\n",
    "\n",
    "\n",
    "\n",
    "df = pd.DataFrame(np.array([  \n",
    "    \n",
    "                                 [round(accuracy_score(y_test, y_predKNN)*100,2),classification_report(y_test, y_predKNN)[84:88],(classification_report(y_test, y_predKNN)[138:143])]\n",
    "                            \n",
    "                                ,[ round(accuracy_score(y_test, y_predDT)*100,2),classification_report(y_test, y_predDT)[84:88], \n",
    "                                  classification_report(y_test, y_predDT)[138:143]]\n",
    "                            \n",
    "                             , [ round(accuracy_score(y_test, y_predRF)*100,2),classification_report(y_test, y_predRF)[84:88],\n",
    "                                classification_report(y_test, y_predRF)[138:143]]\n",
    "                            \n",
    "                             ,  [ round(accuracy_score(y_test, grid_predictions)*100,2),classification_report(y_test, grid_predictions)[84:88], \n",
    "                                 classification_report(y_test, grid_predictions)[138:143]]\n",
    "                       ]),index=index, columns=cols)\n",
    "df"
   ]
  },
  {
   "cell_type": "code",
   "execution_count": null,
   "metadata": {},
   "outputs": [],
   "source": []
  }
 ],
 "metadata": {
  "kernelspec": {
   "display_name": "Python 3 (ipykernel)",
   "language": "python",
   "name": "python3"
  },
  "language_info": {
   "codemirror_mode": {
    "name": "ipython",
    "version": 3
   },
   "file_extension": ".py",
   "mimetype": "text/x-python",
   "name": "python",
   "nbconvert_exporter": "python",
   "pygments_lexer": "ipython3",
   "version": "3.9.12"
  }
 },
 "nbformat": 4,
 "nbformat_minor": 2
}
